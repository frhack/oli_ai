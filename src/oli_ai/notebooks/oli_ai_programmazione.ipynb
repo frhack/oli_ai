{
  "nbformat": 4,
  "nbformat_minor": 0,
  "metadata": {
    "colab": {
      "provenance": []
    },
    "kernelspec": {
      "name": "python3",
      "display_name": "Python 3"
    },
    "language_info": {
      "name": "python"
    }
  },
  "cells": [
    {
      "cell_type": "markdown",
      "source": [
        "# Cosa davvero è un programma\n",
        "\n",
        "Prima di addentrarci nel mondo dell'apprendimento automatico — ovvero, far sì che un computer impari a svolgere dei compiti — cerchiamo di capire **cos'è un programma**, **di cosa è fatto** e **quali limiti ha**.\n",
        "\n",
        "## Elementi di base di un programma\n",
        "\n",
        "Quando scriviamo un programma utilizziamo una serie di strumenti fondamentali:\n",
        "\n",
        "- **Variabili**\n",
        "- **Tipi di dati**\n",
        "- **Cicli** (`while`, `for`)\n",
        "- **Controllo di flusso** (`if`, `then`, `else`)\n",
        "- **funzioni**\n",
        "- **Classi**\n",
        "- **Strutture dati**\n",
        "\n",
        "Questi elementi sono i **mattoni logici** con cui costruire un algoritmo, ossia una sequenza di istruzioni per risolvere un problema.\n",
        "\n"
      ],
      "metadata": {
        "id": "oE-Gc2QdS-Qp"
      }
    },
    {
      "cell_type": "markdown",
      "source": [
        "## Python in 15 minuti"
      ],
      "metadata": {
        "id": "Efkg-oV2b9l-"
      }
    },
    {
      "cell_type": "code",
      "source": [],
      "metadata": {
        "id": "VvZic-4NX1iq"
      },
      "execution_count": null,
      "outputs": []
    },
    {
      "cell_type": "markdown",
      "source": [
        "#### 🛠️ Scrivi un programma in Python che conta da 0 a 9"
      ],
      "metadata": {
        "id": "fcKh6gXyYazT"
      }
    },
    {
      "cell_type": "code",
      "source": [
        "# scrivi un programma in Python che conta da 0 a 9\n",
        "\n",
        "for i in range(0, 10):\n",
        "  print(i)"
      ],
      "metadata": {
        "colab": {
          "base_uri": "https://localhost:8080/"
        },
        "id": "GTQk9YCDXIsB",
        "outputId": "8bd2c8a5-8d9c-4dcc-ff0e-c4d054db0913"
      },
      "execution_count": null,
      "outputs": [
        {
          "output_type": "stream",
          "name": "stdout",
          "text": [
            "0\n",
            "1\n",
            "2\n",
            "3\n",
            "4\n",
            "5\n",
            "6\n",
            "7\n",
            "8\n",
            "9\n"
          ]
        }
      ]
    },
    {
      "cell_type": "markdown",
      "source": [
        "## Esempio: Algoritmo *Babilonese*\n",
        "\n",
        "Vogliamo calcolare la radice quadrata di un numero $n$ usando un metodo iterativo, noto fin dall'antichità come **algoritmo babilonese**.\n",
        "\n",
        "Si parte da una **stima iniziale** della radice quadrata, che chiameremo $r$. Ad esempio, si può usare:\n",
        "\n",
        "$$\n",
        "r = \\frac{n}{2}\n",
        "$$\n",
        "Osserviamo che:\n",
        "\n",
        "- Se $r < \\sqrt{n}$, allora $\\sqrt{n} < \\frac{n}{r} $\n",
        "\n",
        "- Se $ r > \\sqrt{n} $, allora $ \\sqrt{n} > \\frac{n}{r}  $\n",
        "\n",
        "Nel primo caso $r < \\sqrt{n} < \\frac{n}{r}$ mentre nel secondo $  \\frac{n}{r}< \\sqrt{n} < r $\n",
        "\n",
        "In entrambi i casi il punto medio tra $r$ e e $n/r$ si avvicina alla soluzione.\n",
        "\n",
        "\n",
        "Possiamo allora trovare la radice quadrata con la precisione desiderata ripetendo un numero di volte adeguato il calcolo della stima $r$ cone il punto medio tra $r$ (stima precedente)  e $\\frac{n}{r}$\n",
        "Ad ogni iterazione l'algoritmo calcola un'approssimazione (*stima*) della radice quadrata migliore della precedente nel seguente modo:  \n",
        "- All'inizio *stima* è la metà del numero.\n",
        "- Ad ogni iterazione *stima* è il punto medio tra la stima precedente (*stima*) e *numero*/*stima*.\n"
      ],
      "metadata": {
        "id": "LmBhatgYXLOk"
      }
    },
    {
      "cell_type": "code",
      "source": [
        "# implementa una funzione Python per il calcolo della radice quadrata\n",
        "\n",
        "def sqrt(n):\n",
        "  r = n / 2\n",
        "  for i in range(0, 100):  # 1, 2, 3 .... 99\n",
        "     r = None\n",
        "  return r\n",
        "\n",
        "\n",
        "\n",
        "sqrt(25)\n"
      ],
      "metadata": {
        "id": "rm_TBpKXc4Xu"
      },
      "execution_count": null,
      "outputs": []
    },
    {
      "cell_type": "markdown",
      "source": [
        "## Programma: trovare l'uscita da un labirinto\n",
        "\n",
        "\n"
      ],
      "metadata": {
        "id": "LvR3uG1IaaQT"
      }
    },
    {
      "cell_type": "code",
      "source": [
        "!pip install --upgrade --no-cache-dir oli_ai > /dev/null\n",
        "\n",
        "from oli_ai import oli_ai\n",
        "from oli_ai.utils import *\n",
        "from oli_ai.maze import *\n",
        "\n",
        "\n",
        "maze = random_maze(20, 20)\n",
        "\n",
        "print(maze)\n",
        "plot_maze(maze)\n",
        "\n",
        "uscite = {(maze.width - 1, maze.height - 1), (maze.width - 1, 0),(0, maze.height - 1)}\n",
        "\n",
        "print(f\"le uscite sono {uscite}\")\n"
      ],
      "metadata": {
        "id": "Jd7NMpkWXHG0",
        "colab": {
          "base_uri": "https://localhost:8080/",
          "height": 477
        },
        "outputId": "bd9016ad-1803-461b-c87e-c2edca57bd36"
      },
      "execution_count": null,
      "outputs": [
        {
          "output_type": "stream",
          "name": "stdout",
          "text": [
            "Maze(width=20, height=20, edges={((7, 12), (7, 13)), ((11, 5), (12, 5)), ((18, 13), (18, 14)), ((11, 7), (11, 8)), ((3, 2), (4, 2)), ((4, 13), (5, 13)), ((5, 5), (6, 5)), ((13, 3), (14, 3)), ((15, 19), (16, 19)), ((5, 7), (5, 8)), ((3, 3), (3, 4)), ((7, 17), (8, 17)), ((14, 15), (15, 15)), ((0, 14), (0, 15)), ((10, 8), (11, 8)), ((15, 15), (16, 15)), ((6, 16), (7, 16)), ((11, 0), (11, 1)), ((16, 19), (17, 19)), ((0, 10), (1, 10)), ((18, 10), (19, 10)), ((14, 18), (15, 18)), ((3, 9), (3, 10)), ((5, 0), (5, 1)), ((5, 12), (6, 12)), ((7, 4), (7, 5)), ((14, 19), (15, 19)), ((4, 5), (4, 6)), ((5, 4), (6, 4)), ((14, 14), (15, 14)), ((6, 19), (7, 19)), ((5, 8), (6, 8)), ((9, 16), (9, 17)), ((11, 14), (11, 15)), ((14, 11), (15, 11)), ((12, 7), (13, 7)), ((1, 1), (1, 2)), ((3, 16), (3, 17)), ((18, 16), (18, 17)), ((5, 14), (5, 15)), ((9, 12), (9, 13)), ((9, 6), (9, 7)), ((15, 4), (15, 5)), ((10, 15), (11, 15)), ((2, 15), (2, 16)), ((19, 0), (19, 1)), ((3, 6), (3, 7)), ((16, 8), (16, 9)), ((1, 18), (1, 19)), ((1, 11), (1, 12)), ((18, 4), (18, 5)), ((7, 7), (7, 8)), ((0, 17), (0, 18)), ((5, 19), (6, 19)), ((5, 6), (5, 7)), ((14, 16), (14, 17)), ((19, 15), (19, 16)), ((11, 2), (11, 3)), ((14, 3), (14, 4)), ((4, 12), (4, 13)), ((5, 11), (6, 11)), ((16, 13), (17, 13)), ((11, 7), (12, 7)), ((17, 3), (17, 4)), ((2, 5), (3, 5)), ((2, 10), (2, 11)), ((0, 9), (1, 9)), ((13, 13), (14, 13)), ((16, 15), (16, 16)), ((12, 9), (13, 9)), ((9, 6), (10, 6)), ((15, 0), (16, 0)), ((2, 3), (2, 4)), ((15, 4), (16, 4)), ((10, 15), (10, 16)), ((13, 9), (14, 9)), ((16, 11), (16, 12)), ((14, 1), (15, 1)), ((15, 1), (16, 1)), ((0, 19), (1, 19)), ((12, 12), (12, 13)), ((16, 5), (17, 5)), ((2, 4), (3, 4)), ((11, 14), (12, 14)), ((17, 16), (17, 17)), ((13, 5), (14, 5)), ((2, 8), (3, 8)), ((3, 8), (4, 8)), ((2, 17), (2, 18)), ((6, 1), (6, 2)), ((13, 0), (13, 1)), ((18, 16), (19, 16)), ((16, 1), (17, 1)), ((7, 1), (7, 2)), ((0, 6), (0, 7)), ((0, 16), (0, 17)), ((14, 0), (15, 0)), ((13, 10), (13, 11)), ((4, 14), (4, 15)), ((11, 17), (11, 18)), ((7, 15), (7, 16)), ((9, 19), (10, 19)), ((0, 12), (0, 13)), ((2, 7), (3, 7)), ((19, 6), (19, 7)), ((1, 0), (2, 0)), ((3, 13), (3, 14)), ((8, 9), (8, 10)), ((3, 15), (4, 15)), ((10, 0), (10, 1)), ((3, 19), (4, 19)), ((17, 6), (17, 7)), ((17, 0), (18, 0)), ((12, 17), (13, 17)), ((19, 7), (19, 8)), ((4, 0), (5, 0)), ((15, 5), (15, 6)), ((13, 12), (14, 12)), ((6, 4), (6, 5)), ((2, 2), (2, 3)), ((4, 0), (4, 1)), ((16, 4), (17, 4)), ((5, 13), (5, 14)), ((11, 9), (11, 10)), ((8, 13), (9, 13)), ((3, 11), (4, 11)), ((16, 7), (16, 8)), ((19, 16), (19, 17)), ((0, 6), (1, 6)), ((7, 6), (8, 6)), ((6, 8), (7, 8)), ((12, 11), (12, 12)), ((7, 12), (8, 12)), ((13, 18), (14, 18)), ((18, 1), (18, 2)), ((1, 0), (1, 1)), ((9, 8), (10, 8)), ((9, 5), (10, 5)), ((15, 8), (15, 9)), ((2, 9), (2, 10)), ((12, 13), (13, 13)), ((5, 10), (5, 11)), ((19, 3), (19, 4)), ((13, 2), (13, 3)), ((3, 18), (4, 18)), ((10, 6), (11, 6)), ((13, 15), (14, 15)), ((11, 0), (12, 0)), ((18, 8), (18, 9)), ((14, 6), (15, 6)), ((7, 10), (7, 11)), ((10, 17), (10, 18)), ((15, 14), (16, 14)), ((8, 13), (8, 14)), ((6, 0), (7, 0)), ((6, 15), (7, 15)), ((2, 14), (3, 14)), ((0, 13), (0, 14)), ((3, 11), (3, 12)), ((8, 10), (8, 11)), ((7, 0), (7, 1)), ((12, 8), (12, 9)), ((4, 4), (5, 4)), ((4, 8), (4, 9)), ((9, 0), (10, 0)), ((10, 3), (11, 3)), ((14, 9), (14, 10)), ((5, 5), (5, 6)), ((16, 2), (16, 3)), ((3, 4), (3, 5)), ((16, 18), (17, 18)), ((6, 5), (6, 6)), ((4, 4), (4, 5)), ((2, 16), (2, 17)), ((9, 0), (9, 1)), ((12, 1), (12, 2)), ((10, 13), (10, 14)), ((6, 11), (7, 11)), ((11, 13), (11, 14)), ((1, 7), (1, 8)), ((19, 10), (19, 11)), ((16, 17), (16, 18)), ((0, 8), (0, 9)), ((5, 2), (5, 3)), ((17, 10), (18, 10)), ((18, 4), (19, 4)), ((10, 6), (10, 7)), ((18, 13), (19, 13)), ((7, 19), (8, 19)), ((6, 0), (6, 1)), ((19, 17), (19, 18)), ((10, 16), (10, 17)), ((12, 14), (12, 15)), ((3, 1), (4, 1)), ((1, 13), (2, 13)), ((19, 13), (19, 14)), ((8, 19), (9, 19)), ((1, 14), (1, 15)), ((18, 0), (18, 1)), ((7, 2), (7, 3)), ((4, 11), (4, 12)), ((15, 17), (15, 18)), ((2, 0), (3, 0)), ((8, 2), (8, 3)), ((18, 7), (18, 8)), ((11, 3), (12, 3)), ((8, 4), (9, 4)), ((1, 17), (1, 18)), ((18, 12), (19, 12)), ((13, 8), (14, 8)), ((0, 8), (1, 8)), ((5, 12), (5, 13)), ((13, 16), (13, 17)), ((7, 7), (8, 7)), ((0, 5), (1, 5)), ((17, 3), (18, 3)), ((3, 18), (3, 19)), ((15, 7), (15, 8)), ((0, 0), (1, 0)), ((12, 5), (13, 5)), ((17, 18), (18, 18)), ((18, 17), (18, 18)), ((11, 2), (12, 2)), ((9, 1), (9, 2)), ((4, 18), (5, 18)), ((19, 2), (19, 3)), ((8, 5), (8, 6)), ((0, 0), (0, 1)), ((5, 17), (6, 17)), ((11, 18), (12, 18)), ((12, 0), (12, 1)), ((13, 4), (14, 4)), ((10, 10), (10, 11)), ((14, 11), (14, 12)), ((18, 14), (18, 15)), ((11, 10), (12, 10)), ((18, 15), (19, 15)), ((11, 16), (12, 16)), ((9, 15), (9, 16)), ((18, 19), (19, 19)), ((10, 9), (11, 9)), ((13, 0), (14, 0)), ((9, 4), (10, 4)), ((9, 14), (10, 14)), ((5, 10), (6, 10)), ((19, 9), (19, 10)), ((8, 12), (8, 13)), ((11, 6), (12, 6)), ((7, 14), (8, 14)), ((8, 11), (8, 12)), ((13, 6), (13, 7)), ((8, 4), (8, 5)), ((14, 13), (15, 13)), ((17, 14), (17, 15)), ((16, 11), (17, 11)), ((4, 3), (5, 3)), ((9, 14), (9, 15)), ((3, 14), (4, 14)), ((17, 1), (17, 2)), ((4, 2), (4, 3)), ((1, 16), (1, 17)), ((5, 9), (6, 9)), ((7, 17), (7, 18)), ((3, 15), (3, 16)), ((3, 10), (4, 10)), ((17, 7), (17, 8)), ((12, 8), (13, 8)), ((5, 11), (5, 12)), ((7, 9), (7, 10)), ((11, 12), (11, 13)), ((10, 19), (11, 19)), ((16, 6), (16, 7)), ((19, 4), (19, 5)), ((11, 4), (11, 5)), ((1, 9), (1, 10)), ((2, 5), (2, 6)), ((8, 18), (9, 18)), ((0, 1), (0, 2)), ((6, 17), (6, 18)), ((8, 15), (8, 16)), ((10, 2), (10, 3)), ((16, 0), (17, 0)), ((10, 12), (10, 13)), ((12, 10), (12, 11)), ((7, 3), (7, 4)), ((14, 1), (14, 2)), ((4, 9), (4, 10)), ((6, 13), (7, 13)), ((12, 4), (13, 4)), ((12, 19), (13, 19)), ((15, 10), (16, 10)), ((16, 14), (17, 14)), ((10, 5), (10, 6)), ((15, 16), (15, 17)), ((7, 6), (7, 7)), ((5, 18), (5, 19)), ((13, 14), (14, 14)), ((8, 8), (9, 8)), ((2, 2), (3, 2)), ((3, 17), (4, 17)), ((7, 0), (8, 0)), ((16, 10), (17, 10)), ((9, 11), (10, 11)), ((17, 9), (18, 9)), ((15, 3), (16, 3)), ((3, 0), (3, 1)), ((13, 10), (14, 10)), ((17, 13), (18, 13)), ((15, 9), (16, 9)), ((16, 2), (17, 2)), ((17, 5), (18, 5)), ((7, 18), (8, 18)), ((18, 6), (18, 7)), ((0, 14), (1, 14)), ((11, 19), (12, 19)), ((4, 17), (5, 17)), ((14, 2), (15, 2)), ((17, 6), (18, 6)), ((17, 15), (17, 16)), ((13, 5), (13, 6)), ((8, 14), (8, 15)), ((2, 9), (3, 9)), ((8, 1), (8, 2)), ((0, 15), (0, 16)), ((6, 13), (6, 14)), ((2, 13), (3, 13)), ((8, 7), (9, 7)), ((15, 10), (15, 11)), ((5, 1), (5, 2)), ((2, 6), (3, 6)), ((4, 16), (5, 16)), ((13, 17), (14, 17)), ((19, 18), (19, 19)), ((6, 14), (6, 15)), ((15, 16), (16, 16)), ((0, 11), (0, 12)), ((19, 5), (19, 6)), ((8, 8), (8, 9)), ((13, 15), (13, 16)), ((2, 12), (2, 13)), ((1, 4), (2, 4)), ((8, 3), (9, 3)), ((6, 6), (6, 7)), ((17, 12), (18, 12)), ((9, 18), (9, 19)), ((4, 6), (4, 7)), ((2, 18), (2, 19)), ((14, 7), (14, 8)), ((16, 5), (16, 6)), ((12, 14), (13, 14)), ((15, 3), (15, 4)), ((15, 12), (16, 12)), ((19, 1), (19, 2)), ((11, 15), (11, 16)), ((1, 2), (1, 3)), ((19, 11), (19, 12)), ((12, 16), (12, 17)), ((0, 4), (0, 5)), ((16, 9), (17, 9)), ((6, 3), (7, 3)), ((1, 12), (1, 13)), ((2, 1), (2, 2)), ((2, 11), (2, 12)), ((9, 10), (9, 11)), ((17, 11), (18, 11)), ((9, 2), (9, 3)), ((1, 15), (2, 15)), ((2, 7), (2, 8)), ((1, 5), (1, 6)), ((0, 18), (0, 19)), ((5, 8), (5, 9)), ((16, 17), (17, 17)), ((10, 11), (10, 12)), ((17, 19), (18, 19)), ((19, 8), (19, 9)), ((14, 6), (14, 7)), ((6, 9), (7, 9)), ((13, 18), (13, 19)), ((0, 7), (1, 7)), ((6, 16), (6, 17)), ((10, 4), (11, 4)), ((5, 15), (5, 16)), ((0, 10), (0, 11)), ((9, 9), (10, 9)), ((15, 12), (15, 13)), ((11, 11), (11, 12)), ((2, 19), (3, 19)), ((0, 3), (1, 3)), ((10, 18), (11, 18)), ((13, 1), (13, 2)), ((13, 11), (13, 12)), ((18, 2), (18, 3)), ((6, 3), (6, 4)), ((16, 12), (17, 12)), ((8, 17), (9, 17)), ((9, 9), (9, 10)), ((0, 3), (0, 4)), ((8, 0), (8, 1)), ((10, 1), (11, 1))})\n"
          ]
        },
        {
          "output_type": "display_data",
          "data": {
            "text/plain": [
              "<Figure size 500x500 with 1 Axes>"
            ],
            "image/png": "[encoded data removed]"
          },
          "metadata": {}
        },
        {
          "output_type": "stream",
          "name": "stdout",
          "text": [
            "le uscite sono {(19, 19), (0, 19), (19, 0)}\n"
          ]
        }
      ]
    },
    {
      "cell_type": "markdown",
      "source": [
        "Troviamo la via d'uscita da un labirinto.\n",
        "\n",
        "\n"
      ],
      "metadata": {
        "id": "uI2XXduzhdJd"
      }
    }
  ]
}