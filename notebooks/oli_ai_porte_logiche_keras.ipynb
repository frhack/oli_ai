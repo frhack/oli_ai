{
  "cells": [
    {
      "cell_type": "markdown",
      "metadata": {},
      "source": [
        "[![Open In Colab](https://colab.research.google.com/assets/colab-badge.svg)](https://colab.research.google.com/github/frhack/oli_ai/blob/main/notebooks/oli_ai_porte_logiche_keras.ipynb)"
      ]
    },
    {
      "cell_type": "code",
      "execution_count": null,
      "metadata": {
        "id": "zfaalQe6oyjK"
      },
      "outputs": [],
      "source": [
        "!pip uninstall  -y oli_ai > /dev/null\n",
        "!pip install --upgrade --no-cache-dir oli_ai > /dev/null\n",
        "\n",
        "\n",
        "import numpy as np\n",
        "from tensorflow.keras.models import Model\n",
        "from tensorflow.keras.layers import Input, Dense\n",
        "from tensorflow.keras.optimizers import Adam\n",
        "from oli_ai.mnist_lib import *"
      ]
    },
    {
      "cell_type": "markdown",
      "metadata": {
        "id": "fmOK6v_biAQ8"
      },
      "source": [
        "# AND"
      ]
    },
    {
      "cell_type": "code",
      "execution_count": null,
      "metadata": {
        "colab": {
          "base_uri": "https://localhost:8080/",
          "height": 535
        },
        "id": "UaYzICAMiO0q",
        "outputId": "d861ce24-2cd8-483d-bfe6-87a2b81d9eb7"
      },
      "outputs": [],
      "source": [
        "\n",
        "# === 1. Dati AND ===\n",
        "inputs = np.array([\n",
        "    [0, 0],\n",
        "    [0, 1],\n",
        "    [1, 0],\n",
        "    [1, 1]])\n",
        "outputs = np.array([\n",
        "    [0],\n",
        "    [0],\n",
        "    [0],\n",
        "    [1]])\n",
        "\n",
        "# === 2. Rete neurale con 2 hidden layer ===\n",
        "show_nn_graph([2,1,1])\n",
        "inp = Input(shape=(2,))\n",
        "h1 = Dense(1, activation='tanh')(inp)        # Primo hidden layer\n",
        "out = Dense(1, activation='sigmoid')(h1)\n",
        "model = Model(inputs=inp, outputs=out)\n",
        "model.compile(optimizer=Adam(learning_rate=0.05), loss='binary_crossentropy', metrics=['accuracy'])\n",
        "model.fit(inputs, outputs, epochs=500, verbose=0)\n",
        "\n",
        "predictions = model.predict(inputs).ravel()\n",
        "print(\"\\nRisultati dell'inferenza:\")\n",
        "print(\"Input 1 | Input 2 | Output AND | Predizione | Decisione del Modello\")\n",
        "print(\"---------------------------------------------------------------------\")\n",
        "for i in range(len(inputs)):\n",
        "    x1, x2 = inputs[i]\n",
        "    label = int(outputs[i][0])\n",
        "    pred = predictions[i]\n",
        "    decision = int(round(pred))\n",
        "    print(f\"   {x1:.0f}    |   {x2:.0f}   |      {label}       |   {pred:.4f}   |           {decision}\")\n",
        "\n",
        "\n"
      ]
    },
    {
      "cell_type": "markdown",
      "metadata": {
        "id": "gV18O-NzjOy9"
      },
      "source": [
        "# OR"
      ]
    },
    {
      "cell_type": "code",
      "execution_count": null,
      "metadata": {
        "colab": {
          "base_uri": "https://localhost:8080/",
          "height": 535
        },
        "id": "6CXbuNdqZk4X",
        "outputId": "e5f5f7c1-9b9d-4825-a618-96f1461ea275"
      },
      "outputs": [],
      "source": []
    },
    {
      "cell_type": "markdown",
      "metadata": {
        "id": "KE8RnSw6jxm6"
      },
      "source": [
        "# XOR"
      ]
    },
    {
      "cell_type": "code",
      "execution_count": null,
      "metadata": {
        "colab": {
          "base_uri": "https://localhost:8080/",
          "height": 1000
        },
        "id": "5HHO0_ByKqBM",
        "outputId": "e52245ea-0a31-4af3-f748-607f17027e9e"
      },
      "outputs": [],
      "source": []
    }
  ],
  "metadata": {
    "accelerator": "GPU",
    "colab": {
      "gpuType": "T4",
      "provenance": []
    },
    "kernelspec": {
      "display_name": "Python 3",
      "name": "python3"
    },
    "language_info": {
      "name": "python"
    }
  },
  "nbformat": 4,
  "nbformat_minor": 0
}
