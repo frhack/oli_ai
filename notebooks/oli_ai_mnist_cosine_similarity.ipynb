{
  "cells": [
    {
      "cell_type": "markdown",
      "metadata": {},
      "source": [
        "[![Open In Colab](https://colab.research.google.com/assets/colab-badge.svg)](https://colab.research.google.com/github/frhack/oli_ai/blob/main/notebooks/oli_ai_programmazione.ipynb)"
      ]
    },
    {
      "cell_type": "markdown",
      "metadata": {
        "id": "oE-Gc2QdS-Qp"
      },
      "source": [
        "# Riconoscimento cifre scritte a mano con Cosine Similarity\n"
      ]
    },
    {
      "cell_type": "code",
      "execution_count": 2,
      "metadata": {
        "id": "VvZic-4NX1iq"
      },
      "outputs": [
        {
          "ename": "AttributeError",
          "evalue": "module 'oli_ai.mnist.mnist' has no attribute 'load_data'",
          "output_type": "error",
          "traceback": [
            "\u001b[0;31m---------------------------------------------------------------------------\u001b[0m",
            "\u001b[0;31mAttributeError\u001b[0m                            Traceback (most recent call last)",
            "Cell \u001b[0;32mIn[2], line 6\u001b[0m\n\u001b[1;32m      3\u001b[0m \u001b[38;5;28;01mfrom\u001b[39;00m\u001b[38;5;250m \u001b[39m\u001b[38;5;21;01moli_ai\u001b[39;00m\u001b[38;5;21;01m.\u001b[39;00m\u001b[38;5;21;01mmnist\u001b[39;00m\u001b[38;5;250m \u001b[39m\u001b[38;5;28;01mimport\u001b[39;00m \u001b[38;5;241m*\u001b[39m\n\u001b[1;32m      4\u001b[0m \u001b[38;5;28;01mimport\u001b[39;00m\u001b[38;5;250m \u001b[39m\u001b[38;5;21;01mnumpy\u001b[39;00m\u001b[38;5;250m \u001b[39m\u001b[38;5;28;01mas\u001b[39;00m\u001b[38;5;250m \u001b[39m\u001b[38;5;21;01mnp\u001b[39;00m\n\u001b[0;32m----> 6\u001b[0m data \u001b[38;5;241m=\u001b[39m \u001b[43mmnist\u001b[49m\u001b[38;5;241;43m.\u001b[39;49m\u001b[43mload_data\u001b[49m()\n\u001b[1;32m      7\u001b[0m (X_train, y_train), (X_test, y_test) \u001b[38;5;241m=\u001b[39m data\n\u001b[1;32m      8\u001b[0m \u001b[38;5;28mprint\u001b[39m(\u001b[38;5;28mlen\u001b[39m(X_train))\n",
            "\u001b[0;31mAttributeError\u001b[0m: module 'oli_ai.mnist.mnist' has no attribute 'load_data'"
          ]
        }
      ],
      "source": [
        "from keras.datasets import mnist\n",
        "from matplotlib import pyplot as plt\n",
        "from oli_ai.mnist import *\n",
        "import numpy as np\n",
        "\n",
        "data = mnist.load_data()\n",
        "(X_train, y_train), (X_test, y_test) = data\n",
        "print(len(X_train))\n",
        "print(len(X_test))\n",
        "print(X_train[0].shape)\n",
        "print(y_train[0])  \n",
        "#X_train.shape\n"
      ]
    },
    {
      "cell_type": "code",
      "execution_count": 12,
      "metadata": {
        "colab": {
          "base_uri": "https://localhost:8080/"
        },
        "id": "GTQk9YCDXIsB",
        "outputId": "8bd2c8a5-8d9c-4dcc-ff0e-c4d054db0913"
      },
      "outputs": [
        {
          "ename": "NameError",
          "evalue": "name 'plot_imgs_labels' is not defined",
          "output_type": "error",
          "traceback": [
            "\u001b[0;31m---------------------------------------------------------------------------\u001b[0m",
            "\u001b[0;31mNameError\u001b[0m                                 Traceback (most recent call last)",
            "Cell \u001b[0;32mIn[12], line 5\u001b[0m\n\u001b[1;32m      1\u001b[0m \u001b[38;5;66;03m#first_image = X_train[0]\u001b[39;00m\n\u001b[1;32m      2\u001b[0m \u001b[38;5;66;03m#first_image = np.array(first_image, dtype='float')\u001b[39;00m\n\u001b[1;32m      3\u001b[0m \u001b[38;5;66;03m#plt.imshow(first_image, cmap='gray')\u001b[39;00m\n\u001b[1;32m      4\u001b[0m \u001b[38;5;66;03m#plt.show()\u001b[39;00m\n\u001b[0;32m----> 5\u001b[0m \u001b[43mplot_imgs_labels\u001b[49m(X_train,y_train, \u001b[38;5;241m3\u001b[39m, \u001b[38;5;241m10\u001b[39m)\n\u001b[1;32m      7\u001b[0m plot_img(X_train[\u001b[38;5;241m0\u001b[39m])\n",
            "\u001b[0;31mNameError\u001b[0m: name 'plot_imgs_labels' is not defined"
          ]
        }
      ],
      "source": [
        "\n",
        "\n",
        "\n",
        "\n",
        "#first_image = X_train[0]\n",
        "#first_image = np.array(first_image, dtype='float')\n",
        "#plt.imshow(first_image, cmap='gray')\n",
        "#plt.show()\n",
        "plot_imgs_labels(X_train,y_train, 3, 10)\n",
        "\n",
        "plot_img(X_train[0])\n"
      ]
    },
    {
      "cell_type": "markdown",
      "metadata": {
        "id": "LmBhatgYXLOk"
      },
      "source": [
        "## Esempio: Algoritmo *Babilonese*\n",
        "\n",
        "Vogliamo calcolare la radice quadrata di un numero $n$ usando un metodo iterativo, noto fin dall'antichità come **algoritmo babilonese**.\n",
        "\n",
        "Si parte da una **stima iniziale** della radice quadrata, che chiameremo $r$. Ad esempio, si può usare:\n",
        "\n",
        "$$\n",
        "r = \\frac{n}{2}\n",
        "$$\n",
        "Osserviamo che:\n",
        "\n",
        "- Se $r < \\sqrt{n}$, allora $\\sqrt{n} < \\frac{n}{r} $\n",
        "\n",
        "- Se $ r > \\sqrt{n} $, allora $ \\sqrt{n} > \\frac{n}{r}  $\n",
        "\n",
        "Nel primo caso $r < \\sqrt{n} < \\frac{n}{r}$ mentre nel secondo $  \\frac{n}{r}< \\sqrt{n} < r $\n",
        "\n",
        "In entrambi i casi il punto medio tra $r$ e e $n/r$ si avvicina alla soluzione.\n",
        "\n",
        "\n",
        "Possiamo allora trovare la radice quadrata con la precisione desiderata ripetendo un numero di volte adeguato il calcolo della stima $r$ cone il punto medio tra $r$ (stima precedente)  e $\\frac{n}{r}$\n",
        "Ad ogni iterazione l'algoritmo calcola un'approssimazione (*stima*) della radice quadrata migliore della precedente nel seguente modo:  \n",
        "- All'inizio *stima* è la metà del numero.\n",
        "- Ad ogni iterazione *stima* è il punto medio tra la stima precedente (*stima*) e *numero*/*stima*.\n"
      ]
    },
    {
      "cell_type": "code",
      "execution_count": 13,
      "metadata": {
        "id": "rm_TBpKXc4Xu"
      },
      "outputs": [
        {
          "data": {
            "text/plain": [
              "NotImplemented"
            ]
          },
          "execution_count": 13,
          "metadata": {},
          "output_type": "execute_result"
        }
      ],
      "source": [
        "# implementa una funzione Python per il calcolo della radice quadrata\n",
        "\n",
        "def sqrt(n):\n",
        "  r = n / 2\n",
        "  for i in range(0, 100):  # 1, 2, 3 .... 99\n",
        "     r = NotImplemented\n",
        "  return r\n",
        "\n",
        "\n",
        "\n",
        "sqrt(25)\n"
      ]
    },
    {
      "cell_type": "markdown",
      "metadata": {
        "id": "LvR3uG1IaaQT"
      },
      "source": [
        "## Programma: trovare l'uscita da un labirinto\n",
        "\n",
        "\n"
      ]
    },
    {
      "cell_type": "code",
      "execution_count": 14,
      "metadata": {
        "colab": {
          "base_uri": "https://localhost:8080/",
          "height": 477
        },
        "id": "Jd7NMpkWXHG0",
        "outputId": "bd9016ad-1803-461b-c87e-c2edca57bd36"
      },
      "outputs": [
        {
          "ename": "ModuleNotFoundError",
          "evalue": "No module named 'oli_ai'",
          "output_type": "error",
          "traceback": [
            "\u001b[0;31m---------------------------------------------------------------------------\u001b[0m",
            "\u001b[0;31mModuleNotFoundError\u001b[0m                       Traceback (most recent call last)",
            "Cell \u001b[0;32mIn[14], line 3\u001b[0m\n\u001b[1;32m      1\u001b[0m \u001b[38;5;66;03m#!pip install --upgrade --no-cache-dir oli_ai > /dev/null\u001b[39;00m\n\u001b[0;32m----> 3\u001b[0m \u001b[38;5;28;01mfrom\u001b[39;00m\u001b[38;5;250m \u001b[39m\u001b[38;5;21;01moli_ai\u001b[39;00m\u001b[38;5;250m \u001b[39m\u001b[38;5;28;01mimport\u001b[39;00m oli_ai\n\u001b[1;32m      4\u001b[0m \u001b[38;5;28;01mfrom\u001b[39;00m\u001b[38;5;250m \u001b[39m\u001b[38;5;21;01moli_ai\u001b[39;00m\u001b[38;5;21;01m.\u001b[39;00m\u001b[38;5;21;01mutils\u001b[39;00m\u001b[38;5;250m \u001b[39m\u001b[38;5;28;01mimport\u001b[39;00m \u001b[38;5;241m*\u001b[39m\n\u001b[1;32m      5\u001b[0m \u001b[38;5;28;01mfrom\u001b[39;00m\u001b[38;5;250m \u001b[39m\u001b[38;5;21;01moli_ai\u001b[39;00m\u001b[38;5;21;01m.\u001b[39;00m\u001b[38;5;21;01mmaze\u001b[39;00m\u001b[38;5;250m \u001b[39m\u001b[38;5;28;01mimport\u001b[39;00m \u001b[38;5;241m*\u001b[39m\n",
            "\u001b[0;31mModuleNotFoundError\u001b[0m: No module named 'oli_ai'"
          ]
        }
      ],
      "source": [
        "#!pip install --upgrade --no-cache-dir oli_ai > /dev/null\n",
        "\n",
        "from oli_ai import oli_ai\n",
        "from oli_ai.utils import *\n",
        "from oli_ai.maze import *\n",
        "\n",
        "\n",
        "maze = random_maze(20, 20)\n",
        "\n",
        "print(maze)\n",
        "plot_maze(maze)\n",
        "\n",
        "uscite = {(maze.width - 1, maze.height - 1), (maze.width - 1, 0),(0, maze.height - 1)}\n",
        "\n",
        "print(f\"le uscite sono {uscite}\")\n"
      ]
    },
    {
      "cell_type": "markdown",
      "metadata": {
        "id": "uI2XXduzhdJd"
      },
      "source": [
        "Troviamo la via d'uscita da un labirinto.\n",
        "\n",
        "\n"
      ]
    }
  ],
  "metadata": {
    "colab": {
      "provenance": []
    },
    "kernelspec": {
      "display_name": "venv",
      "language": "python",
      "name": "python3"
    },
    "language_info": {
      "codemirror_mode": {
        "name": "ipython",
        "version": 3
      },
      "file_extension": ".py",
      "mimetype": "text/x-python",
      "name": "python",
      "nbconvert_exporter": "python",
      "pygments_lexer": "ipython3",
      "version": "3.8.10"
    }
  },
  "nbformat": 4,
  "nbformat_minor": 0
}
