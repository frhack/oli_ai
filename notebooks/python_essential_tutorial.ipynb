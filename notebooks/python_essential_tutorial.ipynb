{
  "cells": [
    {
      "cell_type": "markdown",
      "metadata": {
        "id": "p7ZjVzm3moQR"
      },
      "source": [
        "# 🐍  Python essential tutorial\n",
        "\n",
        "Esploriamo Python con esempi semplici ed esercizi pratici."
      ]
    },
    {
      "cell_type": "markdown",
      "metadata": {},
      "source": [
        "[![Open In Colab](https://colab.research.google.com/assets/colab-badge.svg)](https://colab.research.google.com/github/frhack/oli_ai/blob/main/notebooks/python_essential_tutorial.ipynb)"
      ]
    },
    {
      "cell_type": "markdown",
      "metadata": {
        "id": "VG9T5MiAmoQU"
      },
      "source": [
        "## 1️⃣ Variabili e Tipi di Dati"
      ]
    },
    {
      "cell_type": "code",
      "execution_count": 21,
      "metadata": {
        "colab": {
          "base_uri": "https://localhost:8080/"
        },
        "id": "_5D-k_GbmoQV",
        "outputId": "5e358feb-b887-4b5c-8019-148b214dac91"
      },
      "outputs": [
        {
          "name": "stdout",
          "output_type": "stream",
          "text": [
            "Marco 25 175 True\n",
            "Non sappiamo se ha figli\n",
            "Ha zero figli o non sappiamo se ha figli\n",
            "Marco è alto 175 cm \n"
          ]
        }
      ],
      "source": [
        "\n",
        "name = \"Marco\"\n",
        "age = 25\n",
        "height = 175\n",
        "is_student = True\n",
        "sons = None\n",
        "\n",
        "# Visualizzazione\n",
        "print(name,age, height,is_student)\n",
        "\n",
        "if sons is None:\n",
        "  print(\"Non sappiamo se ha figli\")\n",
        "if not sons:\n",
        "  print(\"Ha zero figli o non sappiamo se ha figli\")\n",
        "print(f\"{name} è alto {height} cm \")\n",
        "\n",
        "\n",
        "# None è sempre False\n",
        "# Una stringa e una tupla sono sempre true a meno che vuote\n"
      ]
    },
    {
      "cell_type": "code",
      "execution_count": 22,
      "metadata": {},
      "outputs": [
        {
          "name": "stdout",
          "output_type": "stream",
          "text": [
            "il tipo della variabile a è <class 'bool'>\n",
            "il tipo della variabile b è <class 'int'>\n",
            "il tipo della variabile b è <class 'float'>\n",
            "il tipo della variabile d è <class 'str'>\n"
          ]
        }
      ],
      "source": [
        "\n",
        "a = True\n",
        "print(f\"il tipo della variabile a è {type(a)}\")\n",
        "\n",
        "a = 10\n",
        "print(f\"il tipo della variabile b è {type(a)}\")\n",
        "\n",
        "a = 3.14\n",
        "print(f\"il tipo della variabile b è {type(a)}\")\n",
        "\n",
        "a = \"ciao\"\n",
        "print(f\"il tipo della variabile d è {type(a)}\")"
      ]
    },
    {
      "cell_type": "markdown",
      "metadata": {
        "id": "44H93unOmoQW"
      },
      "source": [
        "**Esercizio 1:** Crea variabili con il tuo nome, anno di nascita e hobby."
      ]
    },
    {
      "cell_type": "markdown",
      "metadata": {
        "id": "OvUoA7numoQW"
      },
      "source": [
        "## 2️⃣ Operazioni Matematiche"
      ]
    },
    {
      "cell_type": "code",
      "execution_count": null,
      "metadata": {
        "colab": {
          "base_uri": "https://localhost:8080/"
        },
        "id": "ez0cAA9JmoQX",
        "outputId": "a9caf3f5-22f4-44d4-bc90-c4b029d10bc0"
      },
      "outputs": [],
      "source": [
        "somma = 5 + 3\n",
        "differenza = 10 - 4\n",
        "prodotto = 6 * 7\n",
        "divisione = 20 / 4\n",
        "modulo = 10 % 3 \n",
        "potenza = 2 ** 3\n",
        "print(f\"con un byte si possono codificare  {2**8} caratteri\")"
      ]
    },
    {
      "cell_type": "markdown",
      "metadata": {
        "id": "9Eu-qGLcmoQX"
      },
      "source": [
        "**Esercizio 2:** Calcola l'area di un rettangolo con base 7 e altezza 4."
      ]
    },
    {
      "cell_type": "markdown",
      "metadata": {
        "id": "C2hHuzBFmoQX"
      },
      "source": [
        "## 3️⃣ Stringhe"
      ]
    },
    {
      "cell_type": "code",
      "execution_count": null,
      "metadata": {
        "colab": {
          "base_uri": "https://localhost:8080/"
        },
        "id": "LZ-n3HgUmoQY",
        "outputId": "77554ab5-f211-4929-b3b4-8e53b04027d0"
      },
      "outputs": [],
      "source": [
        "nome = \"Luigi\"\n",
        "saluto = \"Ciao\"\n",
        "messaggio = saluto + \" \" + nome + \"!\"\n",
        "print(messaggio)\n",
        "print(len(messaggio))\n",
        "print(messaggio.upper())\n",
        "print(messaggio.lower())\n",
        "messaggio = messaggio.replace(\"Luigi\", \"Maria\")\n",
        "print(messaggio)"
      ]
    },
    {
      "cell_type": "markdown",
      "metadata": {
        "id": "qaZ5oxnOmoQZ"
      },
      "source": [
        "**Esercizio 3:** Crea una stringa con il tuo nome e cognome, poi stampala in maiuscolo."
      ]
    },
    {
      "cell_type": "markdown",
      "metadata": {
        "id": "eNbvH4ebmoQa"
      },
      "source": [
        "## 4️⃣ Liste"
      ]
    },
    {
      "cell_type": "code",
      "execution_count": null,
      "metadata": {
        "colab": {
          "base_uri": "https://localhost:8080/"
        },
        "id": "lNUtHQCYmoQc",
        "outputId": "80305b61-0d0a-4262-852e-c9c6ed8ebe03"
      },
      "outputs": [],
      "source": [
        "nomi = [\"Paolo\", \"Maria\", \"Luigi\"]\n",
        "nomi[1] = \"Anna\"\n",
        "nomi.append(\"Marco\")\n",
        "print(nomi)\n",
        "print(len(nomi))\n",
        "\n",
        "altri_nomi = [\"Marco\",\"Anna\",\"Paolo\"]\n",
        "\n",
        "lista_completa = nomi + altri_nomi\n",
        "\n",
        "print(lista_completa)"
      ]
    },
    {
      "cell_type": "markdown",
      "metadata": {
        "id": "ApnfsqcHmoQe"
      },
      "source": [
        "**Esercizio 4:** Crea una lista con i tuoi 3 cibi preferiti e aggiungi un quarto."
      ]
    },
    {
      "cell_type": "code",
      "execution_count": null,
      "metadata": {
        "colab": {
          "base_uri": "https://localhost:8080/"
        },
        "id": "kbGq4bUrmoQf",
        "outputId": "79d695a0-a570-400c-8bce-75918abcb0ec"
      },
      "outputs": [],
      "source": [
        "coordinate = (10, 20)\n",
        "x, y = coordinate\n",
        "\n",
        "print(f\"x: {x}, y: {y}\")\n",
        "\n",
        "print(coordinate[0])"
      ]
    },
    {
      "cell_type": "markdown",
      "metadata": {
        "id": "Cu159iZVmoQf"
      },
      "source": [
        "**Esercizio 5:** Prova a modificare un elemento di una tupla. Come fare se non si può ?"
      ]
    },
    {
      "cell_type": "markdown",
      "metadata": {
        "id": "Gp-dmzhgmoQf"
      },
      "source": [
        "## 6️⃣ Set"
      ]
    },
    {
      "cell_type": "code",
      "execution_count": null,
      "metadata": {
        "colab": {
          "base_uri": "https://localhost:8080/"
        },
        "id": "HWd2XlvSmoQf",
        "outputId": "25112c96-68c3-4b5d-ca71-3827e01a9239"
      },
      "outputs": [],
      "source": [
        "colori = {\"rosso\", \"verde\", \"blu\"}\n",
        "colori.add(\"giallo\")\n",
        "colori.remove(\"verde\")\n",
        "print(colori)"
      ]
    },
    {
      "cell_type": "markdown",
      "metadata": {
        "id": "knHC54mdmoQg"
      },
      "source": [
        "**Esercizio 6:** Crea due set e calcola unione, intersezione e differenza.\n",
        "\n",
        "\n",
        "##### Suggerimenti \n",
        "\n",
        "   - **Unione**: combina tutti gli elementi dei due set (senza duplicati)\n",
        "     - Sintassi: `set_a | set_b` oppure `set_a.union(set_b)`\n",
        "   - **Intersezione**: elementi presenti in entrambi i set\n",
        "     - Sintassi: `set_a & set_b` oppure `set_a.intersection(set_b)`\n",
        "   - **Differenza**: elementi presenti nel primo set ma non nel secondo\n",
        "     - Sintassi: `set_a - set_b` oppure `set_a.difference(set_b)`"
      ]
    },
    {
      "cell_type": "markdown",
      "metadata": {
        "id": "rgASzdUXmoQg"
      },
      "source": [
        "## 7️⃣ NamedTuple"
      ]
    },
    {
      "cell_type": "code",
      "execution_count": null,
      "metadata": {
        "colab": {
          "base_uri": "https://localhost:8080/"
        },
        "id": "viola4IUmoQg",
        "outputId": "a7f07f4d-2df3-4547-973b-c8566d4fe129"
      },
      "outputs": [],
      "source": [
        "from collections import namedtuple\n",
        "\n",
        "Persona = namedtuple(\"Persona\", [\"nome\", \"età\", \"città\"])\n",
        "p1 = Persona(\"Marco\", 30, \"Roma\")\n",
        "\n",
        "print(p1)"
      ]
    },
    {
      "cell_type": "markdown",
      "metadata": {
        "id": "VEj2NSkRmoQg"
      },
      "source": [
        "**Esercizio 7:** Crea una namedtuple Libro con titolo, autore e anno."
      ]
    },
    {
      "cell_type": "markdown",
      "metadata": {
        "id": "X2JLtIBjmoQg"
      },
      "source": [
        "## 8️⃣ Cicli"
      ]
    },
    {
      "cell_type": "code",
      "execution_count": null,
      "metadata": {
        "colab": {
          "base_uri": "https://localhost:8080/"
        },
        "id": "HYSgInnnmoQh",
        "outputId": "a16cd16a-728f-49f0-833c-f8b259817db8"
      },
      "outputs": [],
      "source": [
        "# conta da 0 a 9\n",
        "for i in range(0, 10):\n",
        "  print(i)\n",
        "\n",
        "colori = [\"rosso\", \"verde\"]\n",
        "for colore in colori:\n",
        "   print(colore)"
      ]
    },
    {
      "cell_type": "markdown",
      "metadata": {
        "id": "x6CDQGDTmoQh"
      },
      "source": [
        "**Esercizio 8:** Stampa i numeri pari da 100 a 110 (estremi inclusi)."
      ]
    },
    {
      "cell_type": "markdown",
      "metadata": {
        "id": "eipY_nQamoQh"
      },
      "source": [
        "## 9️⃣ Condizioni"
      ]
    },
    {
      "cell_type": "code",
      "execution_count": null,
      "metadata": {
        "colab": {
          "base_uri": "https://localhost:8080/"
        },
        "id": "rIs6COF0moQh",
        "outputId": "d3c15625-9667-48e9-9295-cb064f9ed84c"
      },
      "outputs": [],
      "source": [
        "numero = 10\n",
        "if numero > 0:\n",
        "  print(\"Positivo\")\n",
        "elif numero < 0:\n",
        "  print(\"Negativo\")\n",
        "else:\n",
        "  print(\"Zero\")"
      ]
    },
    {
      "cell_type": "markdown",
      "metadata": {
        "id": "f9_RnpxomoQh"
      },
      "source": [
        "**Esercizio 9:** Verifica se un numero è pari o dispari."
      ]
    },
    {
      "cell_type": "markdown",
      "metadata": {
        "id": "OxhAmn7lmoQh"
      },
      "source": [
        "## 🔟 Funzioni"
      ]
    },
    {
      "cell_type": "code",
      "execution_count": null,
      "metadata": {
        "colab": {
          "base_uri": "https://localhost:8080/"
        },
        "id": "j-x7B2YqmoQi",
        "outputId": "da5da63b-5513-4b35-dd39-5b34de124acc"
      },
      "outputs": [],
      "source": [
        "def saluta(nome):\n",
        "  return \"Ciao \" + nome\n",
        "print(saluta(\"Anna\"))"
      ]
    },
    {
      "cell_type": "markdown",
      "metadata": {
        "id": "cV5LhuMHmoQi"
      },
      "source": [
        "**Esercizio 10:** Crea una funzione che calcoli l'area di un cerchio."
      ]
    },
    {
      "cell_type": "markdown",
      "metadata": {
        "id": "mFnX3DxVmoQi"
      },
      "source": [
        "## 🔑 Dizionari "
      ]
    },
    {
      "cell_type": "code",
      "execution_count": null,
      "metadata": {
        "colab": {
          "base_uri": "https://localhost:8080/"
        },
        "id": "WTA-uo-MmoQi",
        "outputId": "949e1be0-d60e-49b9-fd38-58337a43379b"
      },
      "outputs": [],
      "source": [
        "studenti = {\n",
        "                \"A001\": \"Luca Bianchi\",\n",
        "                \"A002\": \"Giulia Verdi\",\n",
        "                \"A003\": \"Marco Neri\"\n",
        "           }\n",
        "for matricola, nome in studenti.items():\n",
        "  print(f\"{matricola}: {nome}\")\n",
        "\n",
        "\n",
        "print(studenti[\"A002\"])\n",
        "studenti[\"A002\"] = \"Giulia Rossi\"\n",
        "print(studenti[\"A002\"])\n",
        "\n",
        "if(not \"C000980\" in studenti):\n",
        "  print(\"Non esiste lo studente\")\n"
      ]
    },
    {
      "cell_type": "code",
      "execution_count": null,
      "metadata": {
        "colab": {
          "base_uri": "https://localhost:8080/"
        },
        "id": "e_KlgPdPmoQj",
        "outputId": "0290ef67-c92b-4654-de05-68eb9d10b586"
      },
      "outputs": [],
      "source": [
        "from collections import namedtuple\n",
        "Libro = namedtuple(\"Libro\", [\"titolo\", \"autore\", \"anno\", \"data_pubblicazione\"])\n",
        "catalogo = {    \"978-88-06-12345-6\": Libro(\"Il codice\", \"Dan Brown\", 2003, \"2003-03-18\"),\n",
        "                \"978-88-07-65432-1\": Libro(\"Il maestro e Margherita\", \"M. Bulgakov\", 1967, \"1967-06-01\")}\n",
        "\n",
        "for isbn, libro in catalogo.items():\n",
        "  print(f\"{isbn}: {libro.titolo}, {libro.autore}\")"
      ]
    },
    {
      "cell_type": "markdown",
      "metadata": {
        "id": "3rgSJpaJmoQj"
      },
      "source": [
        "## 👤 Classi e Oggetti"
      ]
    },
    {
      "cell_type": "code",
      "execution_count": null,
      "metadata": {
        "colab": {
          "base_uri": "https://localhost:8080/"
        },
        "id": "-96jVNN1moQj",
        "outputId": "e007ea24-9c84-404a-9d05-13380cf1d575"
      },
      "outputs": [],
      "source": [
        "# Classe Padre (Base)\n",
        "class ContoBancario:\n",
        "    def __init__(self, intestatario, saldo=0):\n",
        "        self.intestatario = intestatario\n",
        "        self.saldo = saldo\n",
        "\n",
        "    def deposita(self, importo):\n",
        "        \"\"\"Aggiunge denaro al saldo.\"\"\"\n",
        "        if importo > 0:\n",
        "            self.saldo += importo\n",
        "            print(f\"{importo}€ depositati. Saldo attuale: {self.saldo}€\")\n",
        "        else:\n",
        "            print(\"Importo non valido.\")\n",
        "\n",
        "    def preleva(self, importo):\n",
        "        \"\"\"Rimuove denaro dal saldo.\"\"\"\n",
        "        if 0 < importo <= self.saldo:\n",
        "            self.saldo -= importo\n",
        "            print(f\"{importo}€ prelevati. Saldo attuale: {self.saldo}€\")\n",
        "        else:\n",
        "            print(\"Fondi insufficienti o importo non valido.\")\n",
        "\n",
        "    def __bool__(self):\n",
        "        \"\"\"Un account bancario è considerato attivo se ha un saldo positivo.\"\"\"\n",
        "        return self.saldo > 0\n",
        "\n",
        "    def __add__(self, importo):\n",
        "        \"\"\"Overload dell'operatore + per depositare denaro.\"\"\"\n",
        "        self.deposita(importo)\n",
        "        return self.saldo\n",
        "\n",
        "    def __sub__(self, importo):\n",
        "        \"\"\"Overload dell'operatore - per prelevare denaro.\"\"\"\n",
        "        self.preleva(importo)\n",
        "        return self.saldo\n",
        "\n",
        "    def __str__(self):\n",
        "        \"\"\"Rappresentazione testuale dell'account bancario.\"\"\"\n",
        "        return f\"Conto Bancario di {self.intestatario} con saldo di {self.saldo}€\"\n",
        "\n",
        "# Classe Figlia (Derivata) che eredita da AccountBancario\n",
        "class ContoRisparmio(ContoBancario):\n",
        "\n",
        "    def __init__(self, intestatario, saldo=0, tasso=1.0):\n",
        "        \"\"\"Inizializza un conto di risparmio con un tasso di interesse predefinito.\"\"\"\n",
        "        super().__init__(intestatario, saldo)\n",
        "        self.tasso = tasso\n",
        "\n",
        "\n",
        "    def applica_interesse(self):\n",
        "        \"\"\"Applica un interesse al saldo corrente.\"\"\"\n",
        "        if self.tasso > 0:\n",
        "            interesse = self.saldo * (self.tasso / 100)\n",
        "            self.saldo += interesse\n",
        "            print(f\"Interesse di {interesse:.2f}€ applicato. Saldo attuale: {self.saldo:.2f}€\")\n",
        "        else:\n",
        "            print(\"Tasso di interesse non valido.\")\n",
        "\n",
        "    def __str__(self):\n",
        "        \"\"\"Rappresentazione testuale del conto risparmio.\"\"\"\n",
        "        return f\"Conto di Risparmio di {self.intestatario} con saldo di {self.saldo}€\"\n",
        "\n",
        "\n",
        "\n",
        "conto1 = ContoRisparmio(\"Mario Rossi\", 1000)\n",
        "conto2 = ContoBancario(\"Luca Bianchi\", 0)\n",
        "\n",
        "conto1.preleva(500)\n",
        "conto1.deposita(200)\n",
        "conto1.applica_interesse()\n",
        "\n",
        "\n",
        "\n",
        "print(conto1)\n",
        "print(conto2.__str__())\n",
        "\n",
        "if conto1:\n",
        "    print(f\"Il conto di {conto1.intestatario} è in attivo. Puoi fare prelievi.\")\n",
        "else:\n",
        "    print(f\"Il conto di {conto1.intestatario} non è in attivo.\")\n",
        "\n",
        "if conto2:\n",
        "    print(f\"Il conto di {conto2.intestatario} è in attivo. Puoi fare prelievi.\")\n",
        "else:\n",
        "    print(f\"Il conto di {conto2.intestatario} non è in attivo.\")\n",
        "\n",
        "conto1 + 500    # Aggiunge 500€ al saldo\n",
        "conto1 - 200    # Rimuove 200€ dal saldo\n",
        "conto1 - 1500   # Prova a prelevare più del saldo disponibile\n",
        "\n"
      ]
    },
    {
      "cell_type": "markdown",
      "metadata": {
        "id": "S2urhtjU-Wu6"
      },
      "source": [
        "**Esercizio:** commenta i metodi \"\\_\\_str__\" e \"\\_\\_bool__\". Cosa cambia ?"
      ]
    },
    {
      "cell_type": "markdown",
      "metadata": {},
      "source": [
        "##  🐍 List Comprehension in Python\n",
        "\n",
        "La list comprehension è una caratteristica di Python che permette di creare liste in modo conciso ed elegante, usando una sintassi compatta tra parentesi quadre.\n",
        "\n",
        "#### Sintassi base\n",
        "```python\n",
        "nuova_lista = [espressione for elemento in sequenza]\n",
        "```\n",
        "\n",
        "\n",
        "#### Esempio: Creare una lista dei quadrati dei numeri da 1 a 5\n",
        "```python\n",
        "quadrati = [x**2 for x in range(1, 6)]\n",
        "print(quadrati)  # Output: [1, 4, 9, 16, 25]\n",
        "```\n",
        "\n",
        "#### Esempio: Da una lista di nomi creare una lista di nomi in maiuscolo \n",
        "```python\n",
        "nomi = [\"marco\", \"giulia\", \"andrea\", \"sofia\"]\n",
        "nomi_maiuscoli = [nome.upper() for nome in nomi]\n",
        "print(nomi_maiuscoli)  # Output: [\"MARCO\", \"GIULIA\", \"ANDREA\", \"SOFIA\"]\n",
        "```\n",
        "\n",
        "\n",
        "#### List Comprehension con Filtro\n",
        "\n",
        "La list comprehension può essere usata anche per filtrare elementi, creando una lista più corta di quella originale. \n",
        "\n",
        "\n",
        "#### Sintassi con filtro\n",
        "```python\n",
        "nuova_lista = [espressione for elemento in sequenza if condizione]\n",
        "```\n",
        "\n",
        "#### Esempio: Con condizione (filtro)\n",
        "```python\n",
        "numeri = [1, 2, 3, 4, 5, 6, 7, 8, 9, 10]\n",
        "pari = [num for num in numeri if num % 2 == 0]\n",
        "print(pari)  # Output: [2, 4, 6, 8, 10]\n",
        "```\n",
        "\n",
        "#### Esempio: Filtrare solo i numeri positivi\n",
        "```python\n",
        "numeri = [-3, 5, -8, 10, -1, 7, -2]\n",
        "positivi = [num for num in numeri if num > 0]\n",
        "print(positivi)  # Output: [5, 10, 7]\n",
        "```\n",
        "\n",
        "#### Esempio: Filtrare le parole con più di 4 caratteri\n",
        "```python\n",
        "parole = [\"cane\", \"elefante\", \"topo\", \"giraffa\", \"lupo\", \"coccodrillo\"]\n",
        "parole_lunghe = [parola for parola in parole if len(parola) > 4]\n",
        "print(parole_lunghe)  # Output: [\"elefante\", \"giraffa\", \"coccodrillo\"]\n",
        "```\n",
        "\n",
        "#### Esempio: Filtrare i numeri pari e raddoppiarli\n",
        "```python\n",
        "numeri = [1, 2, 3, 4, 5, 6, 7, 8, 9, 10]\n",
        "pari_doppi = [num * 2 for num in numeri if num % 2 == 0]\n",
        "print(pari_doppi)  # Output: [4, 8, 12, 16, 20]\n",
        "```\n",
        "\n",
        "#### Esempio: Filtrare voti sufficienti\n",
        "```python\n",
        "voti = [4, 6, 5, 8, 3, 7, 9, 5, 10]\n",
        "sufficienti = [voto for voto in voti if voto >= 6]\n",
        "print(sufficienti)  # Output: [6, 8, 7, 9, 10]\n",
        "```\n",
        "\n",
        "\n",
        "#### Vantaggi della List Comprehension\n",
        "- Codice più conciso e leggibile\n",
        "- Soluzione più \"Pythonic\" rispetto ai cicli for tradizionali\n",
        "- Migliori prestazioni in molti casi\n",
        "- Molto utilizzata nel codice Python professionale\n",
        "\n",
        "#### Quando usarla\n",
        "- Per trasformare o filtrare elementi di una sequenza\n",
        "- Quando il codice risulta più leggibile rispetto a un ciclo for normale\n",
        "- Per operazioni semplici (per operazioni complesse, meglio usare un ciclo for tradizionale)\n"
      ]
    },
    {
      "cell_type": "markdown",
      "metadata": {},
      "source": [
        "#### Esercizio\n",
        "Scrivi una list comprehension che crei una lista contenente solo le parole che iniziano con la lettera 'p' dalla seguente lista:\n"
      ]
    },
    {
      "cell_type": "markdown",
      "metadata": {},
      "source": [
        "\n",
        "\n",
        "#### Esercizio\n",
        "Hai una lista di dizionari che rappresentano studenti con nome ed età. Crea una list comprehension che selezioni solo gli studenti maggiorenni e ne estragga i nomi:\n",
        "\n",
        "```python\n",
        "studenti = [\n",
        "    {\"nome\": \"Marco\", \"età\": 17},\n",
        "    {\"nome\": \"Giulia\", \"età\": 19},\n",
        "    {\"nome\": \"Paolo\", \"età\": 16},\n",
        "    {\"nome\": \"Anna\", \"età\": 18},\n",
        "    {\"nome\": \"Luca\", \"età\": 20}\n",
        "]\n",
        "\n",
        "# La tua soluzione qui\n",
        "\n"
      ]
    },
    {
      "cell_type": "markdown",
      "metadata": {
        "id": "5K5CfrAOH941"
      },
      "source": [
        "## Progetto: Implementazione di uno stack (coda LIFO)\n",
        "\n",
        "Una coda LIFO (Last In, First Out), comunemente chiamata Stack, è una struttura dati in cui l'ultimo elemento inserito è il primo ad essere rimosso. Funziona come una pila di libri: si aggiungono libri in cima alla pila e si prelevano sempre da sopra.\n",
        "\n",
        "- **Navigazione web**: la cronologia delle pagine visitate (il pulsante \"Indietro\" riporta all'ultima pagina visitata)\n",
        "- **Annulla/Ripeti**: le ultime modifiche vengono annullate per prime\n",
        "- **Feed di notizie**: le notizie più recenti appaiono in cima al feed\n",
        "- **Chiamate di funzioni**: l'ultima funzione chiamata è la prima a terminare\n",
        "\n",
        "\n",
        "### Operazioni principali\n",
        "\n",
        "\n",
        "- **put**: inserisce un elemento :\n",
        "- **pop**: rimuove e restituisce l'elemento più recente\n",
        "- item **in** stack: verifica se l'elemento è nello stack\n",
        "- **for** item **in** stack: permette di iterare su tutti gli elementi della coda\n",
        "\n",
        "\n",
        "\n",
        "\n"
      ]
    },
    {
      "cell_type": "markdown",
      "metadata": {
        "id": "3-cP2CJDMXxC"
      },
      "source": [
        "### Esempio di utilizzo\n",
        "\n"
      ]
    },
    {
      "cell_type": "markdown",
      "metadata": {
        "id": "QyoeCx0WNHU3"
      },
      "source": [
        "```python\n",
        "# Creiamo una nuova coda FIFO\n",
        "coda = Stack()\n",
        "\n",
        "# Inseriamo elementi nella coda\n",
        "coda.put(\"Maria\")\n",
        "coda.put(\"Luca \")\n",
        "coda.put(\"Andrea\")\n",
        "\n",
        "\n",
        "# Stampiamo tutti gli elementi nella coda\n",
        "for x in coda:\n",
        "  print(x)\n",
        "\n",
        "\n",
        "print(\"Carlo\" in  coda)\n",
        "print(\"Maria\" in  coda)\n",
        "\n",
        "\n",
        "# Rimuoviamo gli elementi dalla coda\n",
        "print(\"Primo elemento rimosso:\", coda.pop())  # Output: Primo elemento rimosso: Maria\n",
        "print(\"Secondo elemento rimosso:\", coda.pop())  # Output: Secondo elemento rimosso: Luca\n",
        "\n",
        "print(\"Carlo\" in  coda)\n",
        "False\n",
        "\n",
        "```\n"
      ]
    },
    {
      "cell_type": "markdown",
      "metadata": {
        "id": "KrdPtjpjNZTo"
      },
      "source": [
        "### Implementazione Stack (o coda LIFO)\n",
        "\n",
        "\n",
        "#### Traccia\n",
        "\n",
        "Usa la classe **Node** per creare una catena di nodi collegati l'uno all'altro tramite il riferimento *nodo.next*.\n",
        "Quindi implementa i metodi mancanti:\n",
        "\n",
        "- put\n",
        "- pop\n",
        "\n",
        "\n"
      ]
    },
    {
      "cell_type": "code",
      "execution_count": null,
      "metadata": {
        "colab": {
          "base_uri": "https://localhost:8080/"
        },
        "id": "rnaWc3pWIKo7",
        "outputId": "41edbb42-a95b-4cfe-e0e1-2ab1f97c6e1a"
      },
      "outputs": [],
      "source": [
        "#   implementazione\n",
        "#   Coda comune\n",
        "#   preleviamo da TESTA e aggiungiamo da CODA in questo modo preleviamo sempre il meno recente (in ordine di arrivo)\n",
        "#   <-  TESTA Paolo Luigi Marco CODA <-\n",
        "\n",
        "#   Stack\n",
        "#   preleviamo da TESTA e aggiungiamo da TESTA in questo modo preleviamo sempre il più recente\n",
        "#   <- ->  TESTA Paolo Luigi Marco CODA\n",
        "\n",
        "\n",
        "class Node:\n",
        "    def __init__(self, value, next):\n",
        "        self.value = value\n",
        "        self.next = next\n",
        "\n",
        "class Stack:\n",
        "    def __init__(self):\n",
        "        self.head = None\n",
        "\n",
        "    def put(self, value):\n",
        "        NotImplemented\n",
        "\n",
        "    def pop(self):\n",
        "        NotImplemented\n",
        "\n",
        "    def __contains__(self, value):\n",
        "        NotImplemented\n",
        "        return False\n",
        "\n",
        "    def __iter__(self):\n",
        "        current = self.head\n",
        "        while current:\n",
        "            yield current.value\n",
        "            current = current.next\n",
        "\n",
        "## codice per testare funzionamento\n",
        "\n",
        "coda = Stack()\n",
        "coda.put(\"Maria\")\n",
        "coda.put(\"Luca \")\n",
        "coda.put(\"Andrea\")\n",
        "\n",
        "for item in coda:\n",
        "  print(item)\n",
        "\n",
        "print(\"Carlo\" in  coda)\n",
        "print(\"Maria\" in  coda)\n",
        "\n",
        "\n",
        "# Rimuoviamo gli elementi dalla coda\n",
        "print(\"Primo elemento rimosso:\", coda.pop())  # Output: Primo elemento rimosso: Andrea\n",
        "print(\"Secondo elemento rimosso:\", coda.pop())  # Output: Secondo elemento rimosso: Luca\n"
      ]
    },
    {
      "cell_type": "markdown",
      "metadata": {
        "id": "LtJZaWRy7pvr"
      },
      "source": [
        "## Progetto: Implementazione di una coda (Coda FIFO)\n",
        "\n",
        "Una coda FIFO (First In, First Out), comunemente chiamata semplicemente coda, è una struttura dati in cui il primo elemento inserito è anche il primo ad essere rimosso. Funziona esattamente come una fila di persone alla cassa di un supermercato: chi arriva prima, viene servito prima.\n",
        "- **Gestione stampe**: le richieste di stampa vengono elaborate nell'ordine in cui arrivano\n",
        "- **code comuni**: persone in fila a uno sportello, dal medico, al banco di un supermercato\n",
        "\n",
        "\n",
        "### Operazioni essenziali:\n",
        "\n",
        "- **put**: inserisce un elemento :\n",
        "- **pop**: rimuove e restituisce l'elemento meno recente della coda\n",
        "- item **in** queue: verifica se l'elemento è nella coda\n",
        "- **for** item **in** queue: permette di iterare su tutti gli elementi della coda\n"
      ]
    },
    {
      "cell_type": "markdown",
      "metadata": {
        "id": "uqe6wERNN8Hh"
      },
      "source": [
        "### Esempio di utilizzo:\n",
        "\n",
        "\n",
        "\n"
      ]
    },
    {
      "cell_type": "markdown",
      "metadata": {
        "id": "i1TMhUdTOAom"
      },
      "source": [
        "```python\n",
        "\n",
        "# Creiamo una nuova coda FIFO\n",
        "coda = Coda()\n",
        "\n",
        "# Inseriamo elementi nella coda\n",
        "coda.put(\"Maria\")\n",
        "coda.put(\"Luca \")\n",
        "coda.put(\"Andrea\")\n",
        "\n",
        "\n",
        "# Rimuoviamo gli elementi dalla coda\n",
        "print(\"Primo elemento rimosso:\", coda.pop())  # Output: Primo elemento rimosso: Maria\n",
        "print(\"Secondo elemento rimosso:\", coda.pop())  # Output: Secondo elemento rimosso: Luca\n",
        "\n",
        "print(\"Carlo\" in  coda)\n",
        "\n",
        "for x in coda: # iteriamo su tutti gli elementi nella coda\n",
        "  print(x)\n"
      ]
    },
    {
      "cell_type": "markdown",
      "metadata": {
        "id": "Lu3J8A28Ol5I"
      },
      "source": [
        "### Implementazione coda (FIFO)\n",
        "\n",
        "#### Traccia\n",
        "\n",
        "Usa la classe **Node** per creare una catena di nodi collegati l'uno all'altro tramite il riferimento *nodo.next*.\n",
        "Quindi implementa i metodi mancanti:\n",
        "\n",
        "- put\n",
        "- pop\n",
        "\n",
        "\n"
      ]
    },
    {
      "cell_type": "code",
      "execution_count": null,
      "metadata": {
        "colab": {
          "base_uri": "https://localhost:8080/"
        },
        "id": "j4bTnmSXOti1",
        "outputId": "7bbada19-d06c-408e-b4b0-4dbe36bace7f"
      },
      "outputs": [],
      "source": [
        "\n",
        "class Node:\n",
        "    def __init__(self, value, next):\n",
        "        self.value = value\n",
        "        self.next = next\n",
        "\n",
        "\n",
        "class Queue:\n",
        "    def __init__(self):\n",
        "        self.head = None # primo elemento\n",
        "        self.tail = None # ultimo elemento\n",
        "\n",
        "    def __init__(self):\n",
        "        self.head = None\n",
        "\n",
        "    def put(self, value):\n",
        "        NotImplemented\n",
        "\n",
        "    def pop(self):\n",
        "        NotImplemented\n",
        "\n",
        "    def __contains__(self, value):\n",
        "        NotImplemented\n",
        "        return False\n",
        "\n",
        "    def __iter__(self):\n",
        "        current = self.head\n",
        "        while current:\n",
        "            yield current.value\n",
        "            current = current.next\n",
        "\n",
        "## codice per testare funzionamento\n",
        "\n",
        "\n",
        "coda = Queue()\n",
        "coda.put(\"Maria\")\n",
        "coda.put(\"Luca \")\n",
        "coda.put(\"Andrea\")\n",
        "\n",
        "for x in coda:\n",
        "  print(x)\n",
        "\n",
        "\n",
        "print(\"Carlo\" in  coda)\n",
        "print(\"Maria\" in  coda)\n",
        "\n",
        "\n",
        "print(\"Primo elemento rimosso:\", coda.pop())  # Output: Primo elemento rimosso: Maria\n",
        "print(\"Secondo elemento rimosso:\", coda.pop())  # Output: Secondo elemento rimosso: Luca\n"
      ]
    }
  ],
  "metadata": {
    "colab": {
      "provenance": []
    },
    "kernelspec": {
      "display_name": "venv",
      "language": "python",
      "name": "python3"
    },
    "language_info": {
      "codemirror_mode": {
        "name": "ipython",
        "version": 3
      },
      "file_extension": ".py",
      "mimetype": "text/x-python",
      "name": "python",
      "nbconvert_exporter": "python",
      "pygments_lexer": "ipython3",
      "version": "3.8.10"
    }
  },
  "nbformat": 4,
  "nbformat_minor": 0
}
