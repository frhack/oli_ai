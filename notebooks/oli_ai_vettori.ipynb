{
  "cells": [
    {
      "cell_type": "markdown",
      "metadata": {},
      "source": [
        "[![Open In Colab](https://colab.research.google.com/assets/colab-badge.svg)](https://colab.research.google.com/github/frhack/oli_ai/blob/main/notebooks/oli_ai_vettori.ipynb)"
      ]
    },
    {
      "cell_type": "markdown",
      "metadata": {
        "id": "r78jETTFug66"
      },
      "source": [
        "# Cosa sono i vettori"
      ]
    },
    {
      "cell_type": "code",
      "execution_count": null,
      "metadata": {},
      "outputs": [],
      "source": [
        "!pip install --upgrade --no-cache-dir oli_ai > /dev/null"
      ]
    },
    {
      "cell_type": "code",
      "execution_count": null,
      "metadata": {
        "colab": {
          "base_uri": "https://localhost:8080/",
          "height": 528
        },
        "id": "3Bo7MHHhwmgG",
        "outputId": "309336e6-350f-455d-ab46-65f535264763"
      },
      "outputs": [],
      "source": [
        "from oli_ai.vectors_lib import *\n",
        "import numpy as np\n",
        "INSERISCI_QUI_IL_CODICE = np.array([0,0])\n",
        "\n",
        "import numpy as np\n",
        "\n",
        "vettore1 = np.array([1, 4])\n",
        "\n",
        "vettore2 = np.array([5, -3])\n",
        "plot_vectors({\"vettore uno\":vettore1, \"vettore due\": vettore2 })\n"
      ]
    },
    {
      "cell_type": "markdown",
      "metadata": {
        "id": "_c-rAW458FDx"
      },
      "source": [
        "## Operazione ___Add___"
      ]
    },
    {
      "cell_type": "code",
      "execution_count": null,
      "metadata": {
        "colab": {
          "base_uri": "https://localhost:8080/",
          "height": 580
        },
        "id": "VF0q9oBB27gL",
        "outputId": "d6bd6423-7c46-47be-81f7-45605a32a7a7"
      },
      "outputs": [],
      "source": [
        "plot_add(vettore1,vettore2)\n",
        "vettore_somma = vettore1 + vettore2\n",
        "print(vettore1)\n",
        "print(vettore2)\n",
        "print(vettore_somma)"
      ]
    },
    {
      "cell_type": "markdown",
      "metadata": {
        "id": "L4vjOBX83V0S"
      },
      "source": [
        "### Operazione ___Scale___"
      ]
    },
    {
      "cell_type": "code",
      "execution_count": null,
      "metadata": {
        "colab": {
          "base_uri": "https://localhost:8080/",
          "height": 528
        },
        "id": "ODCPSz6b3ekm",
        "outputId": "8f25bd86-9633-49a5-d63e-8759197b9001"
      },
      "outputs": [],
      "source": [
        "vettore1 = np.array([1.5, 3])\n",
        "\n",
        "vettore1_scalato_di_2 = 2 * vettore1\n",
        "plot_vectors({\"vettore uno\":vettore1, \"vettore1 scalato di 2\": vettore1_scalato_di_2 })"
      ]
    },
    {
      "cell_type": "markdown",
      "metadata": {
        "id": "JBPwXUAC9OoE"
      },
      "source": [
        "## Vettore opposto\n",
        "### l' operazione di sottrazione, si ottiene sommando l'opposto"
      ]
    },
    {
      "cell_type": "code",
      "execution_count": null,
      "metadata": {
        "colab": {
          "base_uri": "https://localhost:8080/",
          "height": 528
        },
        "id": "TtKL37qD9dIs",
        "outputId": "e3ac90fe-1987-4b86-ac61-948a7144d920"
      },
      "outputs": [],
      "source": [
        "vettore = np.array([1, 4])\n",
        "vettore_opposto = -1 * vettore\n",
        "plot_vectors({\"vettore\":vettore, \"vettore opposto\": vettore_opposto })"
      ]
    },
    {
      "cell_type": "markdown",
      "metadata": {
        "id": "ODC-VXXIPrlj"
      },
      "source": [
        "## Eseguiamo una sottrazione"
      ]
    },
    {
      "cell_type": "code",
      "execution_count": null,
      "metadata": {
        "colab": {
          "base_uri": "https://localhost:8080/",
          "height": 528
        },
        "id": "0y0aRYxlPv51",
        "outputId": "c4d2e364-1544-47df-b828-cbbb87725c8c"
      },
      "outputs": [],
      "source": [
        "vettore1 = np.array([1, 4])\n",
        "vettore2 = np.array([5, -3])\n",
        "vettore_sottrazione = INSERISCI_QUI_IL_CODICE\n",
        "plot_vectors({\"vettore1\": vettore1,\"vettore2\": vettore2, \"vettore_sottrazione\": vettore_sottrazione })"
      ]
    },
    {
      "cell_type": "code",
      "execution_count": null,
      "metadata": {
        "colab": {
          "base_uri": "https://localhost:8080/",
          "height": 545
        },
        "id": "7iFCV1EyQrfY",
        "outputId": "cc04d933-67a0-467d-b1aa-3a21f7a57d1b"
      },
      "outputs": [],
      "source": [
        "vettore1 = np.array([1, 4])\n",
        "vettore2 = np.array([5, -3])\n",
        "plot_add(vettore1,-vettore2)"
      ]
    },
    {
      "cell_type": "markdown",
      "metadata": {
        "id": "Er730aptSgOr"
      },
      "source": [
        "## Dot product (prodotto scalare)\n",
        "\n",
        "Il prodotto scalare è un operazione molto semplice."
      ]
    },
    {
      "cell_type": "code",
      "execution_count": null,
      "metadata": {
        "colab": {
          "base_uri": "https://localhost:8080/"
        },
        "id": "WJ8oXJOBS49f",
        "outputId": "778a37b0-6fac-4fc4-f62d-1fffbab2fe06"
      },
      "outputs": [],
      "source": [
        "\n",
        "vettore1 = np.array([1, 4])\n",
        "vettore2 = np.array([5, -3])\n",
        "# scorrere tutte le componenti di un vettore\n",
        "\n",
        "print(\"Le componenti del vettore1 sono:\")\n",
        "for i in range(len(vettore1)):\n",
        "  print(vettore1[i])\n",
        "\n",
        "\n",
        "def dot(vettore1, vettore2):\n",
        "  somma = 0\n",
        "  for i in range(len(vettore1)):\n",
        "    somma = somma + vettore1[i] * vettore2[i]\n",
        "  return somma\n",
        "\n",
        "dot_product = dot(vettore1,vettore2)\n",
        "print(f\"Il dot product  tra vettore1 e vettore2 è {dot_product}\")\n",
        "\n",
        "#possiamo ottenerlo anche con np.dot\n",
        "#possiamo ottenerlo anche con vettore1 @ vettore2\n",
        "\n",
        "print(f\"Il dot product  tra vettore1 e vettore2 è {np.dot(vettore1, vettore2)}\")\n",
        "print(f\"Il dot product  tra vettore1 e vettore2 è {vettore1 @ vettore2}\")\n"
      ]
    },
    {
      "cell_type": "markdown",
      "metadata": {
        "id": "l5pEGrVFc2Ts"
      },
      "source": [
        "## Significato geometrico del dot product\n"
      ]
    },
    {
      "cell_type": "markdown",
      "metadata": {
        "id": "0JjfvtcdYnhD"
      },
      "source": [
        "## La norma di un vettore ossia la sua lunghezza (o intensità)\n",
        "\n",
        "Si ottiene applicando Pitagora. La radice quadrata della somma delle componenti al quadrato\n",
        "\n",
        "\n",
        "### Implementiamo la ___norma___ modificando la funzione ___dot___"
      ]
    },
    {
      "cell_type": "code",
      "execution_count": null,
      "metadata": {
        "colab": {
          "base_uri": "https://localhost:8080/"
        },
        "id": "-Az5KW9LZOvA",
        "outputId": "4d1a0d3f-9595-4a6d-a4dd-7d4f4fe9edef"
      },
      "outputs": [],
      "source": [
        "import math\n",
        "\n",
        "def norm(vettore1):\n",
        "  somma = 0\n",
        "  for i in range(len(vettore1)):\n",
        "    somma = somma + vettore1[i] * vettore1[i]\n",
        "  return math.sqrt(somma)\n",
        "\n",
        "print(f\"La norma del vettore1 è {norm(vettore1)}\")\n",
        "\n",
        "\n",
        "# possiamo ottenerla anche con np.norm()\n",
        "\n",
        "print(f\"La norma del vettore1 è {np.linalg.norm(vettore1)}\")\n"
      ]
    },
    {
      "cell_type": "markdown",
      "metadata": {
        "id": "nRh-yC2UctLy"
      },
      "source": [
        "## Vettore unitario\n",
        "\n",
        "\n",
        "Possiamo ottenere un vettore di lunghezza 1 dividendo il vettore per la sua norma. Ovvero scalando il vettore per l'inverso della sua norma"
      ]
    },
    {
      "cell_type": "code",
      "execution_count": null,
      "metadata": {
        "colab": {
          "base_uri": "https://localhost:8080/"
        },
        "id": "EPAbry1rdRnv",
        "outputId": "fdced6c7-68da-46dc-face-68ff7fe18d87"
      },
      "outputs": [],
      "source": [
        "vettore1_unitario = vettore1 / norm(vettore1)\n",
        "print(vettore1_unitario)"
      ]
    },
    {
      "cell_type": "markdown",
      "metadata": {
        "id": "RvXHGxNBbFzp"
      },
      "source": [
        "## Cosine similarity\n",
        "\n",
        "Esiste una formula tanto semplice quanto potente che ci dice quanto due vettori sono simili, nel senso di quanto sono orientati nella stessa direzione.\n",
        "\n",
        "Si ottiene semplicemente facendo il prodotto scalare dei due vettori trasformati in vettori unitari.\n",
        "\n",
        "Quello che otteniamo eun numero compreso tra -1 e 1. Se uguale a 1 i due vettori hanno la medesima direzione e stesso verso, se -1 stessa direzione ma verso opposto.\n",
        "Quando la cosine similarity è 1 un vettore è ottenuto dall'altro moltiplicato per uno scalare, ossia tra le rispettive componenti c'è la stessa proporzione.\n"
      ]
    },
    {
      "cell_type": "code",
      "execution_count": null,
      "metadata": {
        "colab": {
          "base_uri": "https://localhost:8080/"
        },
        "id": "k8CyLi9NgSyM",
        "outputId": "7c8acef8-f707-455e-f930-95a285f49f77"
      },
      "outputs": [],
      "source": [
        "def sim(vettore1, vettore):\n",
        "  vettore1_unitario = vettore1 / norm(vettore1)\n",
        "  vettore_unitario = vettore / norm(vettore)\n",
        "  return dot(vettore1_unitario, vettore_unitario)\n",
        "\n",
        "\n",
        "similarity_v1_v2 = sim(vettore1, vettore2)\n",
        "print(f\"La cosine similarity tra vettore1 e vettore2 è {similarity_v1_v2}\")\n",
        "\n"
      ]
    },
    {
      "cell_type": "markdown",
      "metadata": {
        "id": "R61mx8pzzX8G"
      },
      "source": [
        "## Vettori in AI\n",
        "\n",
        "I vettori sono utilissimi nonsolo in Fisica ma anche nel mondo dell'AI.\n",
        "Vediamo un esempio.\n",
        "\n",
        "Confrontiamo tre amici rispetto all'andamento scolastico le componenti dei vettori  sono i voti nelle seguenti materrie: Italiano,  Matematica, Fisica, Informatica.\n",
        "\n",
        "Quanto sono simili Paolo e Luigi?\n",
        "\n",
        "Quanto sono simili Paolo e Anna?\n",
        "\n",
        "Quanto sono simili Anna e Carlo ?\n",
        "\n",
        "Chi è il più simile a Paolo ?\n"
      ]
    },
    {
      "cell_type": "code",
      "execution_count": null,
      "metadata": {
        "colab": {
          "base_uri": "https://localhost:8080/",
          "height": 669
        },
        "id": "zGLVKC8Fzbzp",
        "outputId": "63d20ede-b44b-4db1-8a18-913464539919"
      },
      "outputs": [],
      "source": [
        "Paolo = np.array([7,7,6,9])\n",
        "Luigi = np.array([8,6,8,6])\n",
        "Anna = np.array([6,8,8,10])\n",
        "Maria = np.array([7,4,6,5])\n",
        "Carlo = np.array([3,4,4,5])\n",
        "Mario = np.array([7,7,4,9])\n",
        "\n",
        "print(sim(Paolo,Luigi))\n",
        "print(sim(Paolo,Anna))\n",
        "print(sim(Paolo,Maria))\n",
        "print(sim(Anna,Carlo))\n",
        "\n",
        "def max_sim(x, vectors):\n",
        "    results = np.zeros(len(vectors));\n",
        "    for i in range(len(vectors)):\n",
        "        results[i] = sim(x,vectors[i])\n",
        "    print(results)\n",
        "    return np.argmax(results)\n",
        "\n",
        "paolo_max_sim = max_sim(Paolo, [Luigi,Anna,Maria,Carlo,Mario])\n",
        "\n",
        "print(f\"il più simile a Paolo è il vettore n. {paolo_max_sim} \")\n",
        "\n",
        "\n",
        "sim_matrix([Paolo,Luigi,Anna,Maria,Carlo,Mario])\n",
        "\n"
      ]
    }
  ],
  "metadata": {
    "colab": {
      "provenance": []
    },
    "kernelspec": {
      "display_name": "Python 3",
      "name": "python3"
    },
    "language_info": {
      "name": "python"
    }
  },
  "nbformat": 4,
  "nbformat_minor": 0
}
