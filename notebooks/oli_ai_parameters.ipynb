{
 "cells": [
  {
   "cell_type": "markdown",
   "id": "7dd16c55",
   "metadata": {},
   "source": [
    "[![Open In Colab](https://colab.research.google.com/assets/colab-badge.svg)](https://colab.research.google.com/github/frhack/oli_ai/blob/main/notebooks/oli_ai_parameters.ipynb)"
   ]
  },
  {
   "cell_type": "markdown",
   "id": "206d8b3a",
   "metadata": {},
   "source": [
    "# A  caccia di parametri\n",
    "\n",
    "## Cosa studiare\n",
    "\n",
    "Sei in quinta superiore.\n",
    "\n",
    "La prof di Italiano ogni lezione decide di interrogare estraendo una biglia da un sacchetto.\n",
    "\n",
    "Nel sacchetto ci sono due biglie una verde e una rossa, se estrae quella rossa interroga.\n",
    "\n",
    "Il prof di Informatica usa lo stesso metodo ma nel sacchetto ci sono più biglie verdi e rosse non si sa quante.\n",
    "\n",
    "Domani devi essere interrogato in entrambe le materie e hai un ora sola per ripassare.\n",
    "\n",
    "Un tuo compagno ha annotato tutti i dati delle estrazioni di tutte le lezioni dalla prima classe.\n",
    "\n",
    "Quale materia conviene ripassare ?\n",
    "\n",
    "Se dovessi indovinare su 100 estrazioni quante volte ha interrogato il prof di informatica che numero pensi si avvicini di più ? \n",
    "\n",
    "\n"
   ]
  },
  {
   "cell_type": "code",
   "execution_count": null,
   "id": "37f5d8ad",
   "metadata": {},
   "outputs": [],
   "source": [
    "#installo modulo oli_ai \n",
    "!pip install --upgrade --no-cache-dir oli_ai > /dev/null"
   ]
  },
  {
   "cell_type": "code",
   "execution_count": null,
   "id": "cfcd0c39",
   "metadata": {},
   "outputs": [],
   "source": [
    "from oli_ai.prob import *\n",
    "\n",
    "print(prof_italiano.estrai())\n",
    "print(prof_italiano.estrai())\n",
    "\n",
    "\n",
    "print(prof_informatica.estrai())\n",
    "print(prof_informatica.estrai())\n",
    "\n",
    "tot_italiano = 0\n",
    "tot_informatica = 0\n",
    "\n",
    "num_estrazioni = 10000\n",
    "for _ in range(num_estrazioni):\n",
    "    tot_italiano = tot_italiano + prof_italiano.estrai()\n",
    "\n",
    "frequenza_italiano = tot_italiano / num_estrazioni\n",
    "print(f\"Interrogazioni Italiani in {num_estrazioni}: {tot_italiano} frequenza: {frequenza_italiano:.2f} \")\n",
    "\n",
    "\n",
    "for _ in range(num_estrazioni):\n",
    "    tot_informatica = tot_informatica + prof_informatica.estrai()\n",
    "\n",
    "\n",
    "\n",
    "frequenza_informatica = tot_informatica / num_estrazioni\n",
    "print(f\"Interrogazioni Italiani in {num_estrazioni}: {tot_informatica} frequenza: {frequenza_informatica:.2f} \")\n",
    "\n"
   ]
  },
  {
   "cell_type": "code",
   "execution_count": null,
   "id": "6e7f0d36",
   "metadata": {},
   "outputs": [],
   "source": [
    "probabilita = 0.33\n",
    "num_estrazioni = 100\n",
    "num_esperimenti = 100000\n",
    "show_somma_bernoulli(probabilita,num_estrazioni,num_esperimenti)"
   ]
  },
  {
   "cell_type": "markdown",
   "id": "280c5d5a",
   "metadata": {},
   "source": [
    "## Indovina l'altezza\n",
    "\n",
    "Sei il concorrente di uno show televisivo a premi.\n",
    "\n",
    "Puoi vincere un' auto se indovini l'altezza (+/- 2 cm) della prima persona che telefona e anche lei se tu vinci vincerebbe un' auto.\n",
    "\n",
    "Telefona una donna italiana.\n",
    "\n",
    "Che altezza tenti (puoi usare google ma non AI)?\n"
   ]
  },
  {
   "cell_type": "code",
   "execution_count": null,
   "id": "efeba3e1",
   "metadata": {},
   "outputs": [],
   "source": [
    "## Partecipi al Monthy Hall\n",
    "\n",
    "Puoi vincere un auto se trovi la porta giusta, una di tre.\n",
    "\n",
    "Dietro una porta c'è un auto dietro le altre due una capra.\n",
    "\n",
    "Dopo che hai scelto il presentatore, apre una delle altre due porte dove c'è una \n",
    "capra e ti offre la possibilità di cambiare la porta scelta.\n",
    "\n",
    "Cosa fai ?\n"
   ]
  },
  {
   "cell_type": "code",
   "execution_count": null,
   "id": "e494f653",
   "metadata": {},
   "outputs": [],
   "source": [
    "import random\n",
    "\n",
    "# Make 10000 trials.\n",
    "n_tries = 100000\n",
    "stay_wins = 0\n",
    "for i in range(n_tries):\n",
    "    doors = ['car', 'goat', 'goat']\n",
    "    random.shuffle(doors)\n",
    "    my_door_index = random.choice([0, 1, 2])\n",
    "    stay_result = doors[my_door_index]\n",
    "    if (stay_result == \"car\"):\n",
    "        stay_wins = stay_wins + 1\n",
    "\n",
    "print(stay_wins/n_tries)"
   ]
  },
  {
   "cell_type": "code",
   "execution_count": null,
   "id": "269abc6f",
   "metadata": {},
   "outputs": [],
   "source": [
    "import random\n",
    "\n",
    "# Make 10000 trials.\n",
    "n_tries = 100000\n",
    "switch_wins = 0\n",
    "for i in range(n_tries):\n",
    "    # Same code as above, for one trial\n",
    "    doors = ['car', 'goat', 'goat']\n",
    "    random.shuffle(doors)\n",
    "    my_door_index = random.choice([0, 1, 2])\n",
    "    stay_result = doors.pop(my_door_index)\n",
    "    doors.remove('goat') # la porta delle due chiuse con la capra non si può più scegliere\n",
    "    switch_result = doors[0]\n",
    "    # Put results into result lists\n",
    "    if (switch_result == \"car\"):\n",
    "        switch_wins = switch_wins + 1\n",
    "\n",
    "print(switch_wins/n_tries)\n"
   ]
  }
 ],
 "metadata": {
  "kernelspec": {
   "display_name": "venv",
   "language": "python",
   "name": "python3"
  },
  "language_info": {
   "codemirror_mode": {
    "name": "ipython",
    "version": 3
   },
   "file_extension": ".py",
   "mimetype": "text/x-python",
   "name": "python",
   "nbconvert_exporter": "python",
   "pygments_lexer": "ipython3",
   "version": "3.8.10"
  }
 },
 "nbformat": 4,
 "nbformat_minor": 5
}
