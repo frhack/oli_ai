{
  "cells": [
    {
      "cell_type": "markdown",
      "metadata": {},
      "source": [
        "[![Open In Colab](https://colab.research.google.com/assets/colab-badge.svg)](https://colab.research.google.com/github/frhack/oli_ai/blob/main/notebooks/oli_ai_programmazione.ipynb)"
      ]
    },
    {
      "cell_type": "markdown",
      "metadata": {
        "id": "oE-Gc2QdS-Qp"
      },
      "source": [
        "# Cosa davvero è un programma\n",
        "\n",
        "Prima di addentrarci nel mondo dell'apprendimento automatico — ovvero, far sì che un computer impari a svolgere dei compiti — cerchiamo di capire **cos'è un programma**, **di cosa è fatto** e **quali limiti ha**.\n",
        "\n",
        "## Elementi di base di un programma\n",
        "\n",
        "Quando scriviamo un programma utilizziamo una serie di strumenti fondamentali:\n",
        "\n",
        "- **Variabili**\n",
        "- **Tipi di dati**\n",
        "- **Cicli** (`while`, `for`)\n",
        "- **Controllo di flusso** (`if`, `then`, `else`)\n",
        "- **funzioni**\n",
        "- **Classi**\n",
        "- **Strutture dati**\n",
        "\n",
        "Questi elementi sono i **mattoni logici** con cui costruire un algoritmo, ossia una sequenza di istruzioni per risolvere un problema.\n",
        "\n"
      ]
    },
    {
      "cell_type": "markdown",
      "metadata": {
        "id": "fcKh6gXyYazT"
      },
      "source": [
        "#### 🛠️ Scrivi un programma in Python che conta da 0 a 9"
      ]
    },
    {
      "cell_type": "code",
      "execution_count": null,
      "metadata": {},
      "outputs": [],
      "source": [
        "!pip install --upgrade --no-cache-dir oli_ai > /dev/null"
      ]
    },
    {
      "cell_type": "code",
      "execution_count": null,
      "metadata": {
        "colab": {
          "base_uri": "https://localhost:8080/"
        },
        "id": "GTQk9YCDXIsB",
        "outputId": "8bd2c8a5-8d9c-4dcc-ff0e-c4d054db0913"
      },
      "outputs": [],
      "source": [
        "# scrivi un programma in Python che conta da 0 a 9\n",
        "\n",
        "for i in range(0, 10):\n",
        "  print(i)"
      ]
    },
    {
      "cell_type": "markdown",
      "metadata": {
        "id": "LmBhatgYXLOk"
      },
      "source": [
        "## Esempio: Algoritmo *Babilonese*\n",
        "\n",
        "Vogliamo calcolare la radice quadrata di un numero $n$ usando un metodo iterativo, noto fin dall'antichità come **algoritmo babilonese**.\n",
        "\n",
        "Si parte da una **stima iniziale** della radice quadrata, che chiameremo $r$. Ad esempio, si può usare:\n",
        "\n",
        "$$\n",
        "r = \\frac{n}{2}\n",
        "$$\n",
        "Osserviamo che:\n",
        "\n",
        "- Se $r < \\sqrt{n}$, allora $\\sqrt{n} < \\frac{n}{r} $\n",
        "\n",
        "- Se $ r > \\sqrt{n} $, allora $ \\sqrt{n} > \\frac{n}{r}  $\n",
        "\n",
        "Nel primo caso $r < \\sqrt{n} < \\frac{n}{r}$ mentre nel secondo $  \\frac{n}{r}< \\sqrt{n} < r $\n",
        "\n",
        "In entrambi i casi il punto medio tra $r$ e e $n/r$ si avvicina alla soluzione.\n",
        "\n",
        "\n",
        "Possiamo allora trovare la radice quadrata con la precisione desiderata ripetendo un numero di volte adeguato il calcolo della stima $r$ cone il punto medio tra $r$ (stima precedente)  e $\\frac{n}{r}$\n",
        "Ad ogni iterazione l'algoritmo calcola un'approssimazione (*stima*) della radice quadrata migliore della precedente nel seguente modo:  \n",
        "- All'inizio *stima* è la metà del numero.\n",
        "- Ad ogni iterazione *stima* è il punto medio tra la stima precedente (*stima*) e *numero*/*stima*.\n"
      ]
    },
    {
      "cell_type": "code",
      "execution_count": null,
      "metadata": {
        "id": "rm_TBpKXc4Xu"
      },
      "outputs": [],
      "source": [
        "# implementa una funzione Python per il calcolo della radice quadrata\n",
        "\n",
        "def sqrt(n):\n",
        "  r = n / 2\n",
        "  for i in range(0, 100):  # 1, 2, 3 .... 99\n",
        "     r = NotImplemented\n",
        "  return r\n",
        "\n",
        "\n",
        "\n",
        "sqrt(25)\n"
      ]
    },
    {
      "cell_type": "markdown",
      "metadata": {
        "id": "LvR3uG1IaaQT"
      },
      "source": [
        "## Programma: trovare l'uscita da un labirinto\n",
        "\n",
        "\n"
      ]
    },
    {
      "cell_type": "code",
      "execution_count": null,
      "metadata": {
        "colab": {
          "base_uri": "https://localhost:8080/",
          "height": 477
        },
        "id": "Jd7NMpkWXHG0",
        "outputId": "bd9016ad-1803-461b-c87e-c2edca57bd36"
      },
      "outputs": [],
      "source": [
        "#!pip install --upgrade --no-cache-dir oli_ai > /dev/null\n",
        "\n",
        "from oli_ai import oli_ai\n",
        "from oli_ai.utils import *\n",
        "from oli_ai.maze import *\n",
        "\n",
        "\n",
        "maze = random_maze(20, 20)\n",
        "\n",
        "print(maze)\n",
        "plot_maze(maze)\n",
        "\n",
        "uscite = {(maze.width - 1, maze.height - 1), (maze.width - 1, 0),(0, maze.height - 1)}\n",
        "\n",
        "print(f\"le uscite sono {uscite}\")\n"
      ]
    },
    {
      "cell_type": "markdown",
      "metadata": {
        "id": "uI2XXduzhdJd"
      },
      "source": [
        "Troviamo la via d'uscita da un labirinto.\n",
        "\n",
        "\n"
      ]
    },
    {
      "cell_type": "code",
      "execution_count": null,
      "metadata": {},
      "outputs": [],
      "source": [
        "Edge = tuple\n",
        "\n",
        "def edge(A, B): \n",
        "  return Edge(sorted([A, B]))\n",
        "\n",
        "\n",
        "def confini(square) :\n",
        "    \"\"\"The 4 neighbors of an (x, y) square.\"\"\"\n",
        "    (x, y) = square\n",
        "    return {(x + 1, y), (x - 1, y), (x, y + 1), (x, y - 1)}\n",
        "\n",
        "def cerca(maze, frontier):\n",
        "    \"\"\"Find a shortest sequence of states from start to the goal.\"\"\"\n",
        "    start = (0, 0)\n",
        "    uscite = {(maze.width - 1, maze.height - 1), (maze.width - 1, 0),(0, maze.height - 1)}\n",
        "    frontier.put(start)  # A queue of states to consider\n",
        "    paths = {start: [start]}   # start has a one-square path\n",
        "    while frontier:\n",
        "        s = frontier.pop()\n",
        "        if s in uscite:\n",
        "            return paths[s]\n",
        "        for snew in confini(s):\n",
        "            if snew not in paths and edge(s, snew) in maze.edges and snew not in frontier:\n",
        "                frontier.put(snew)\n",
        "                paths[snew] = paths[s] + [snew]\n",
        "\n",
        "\n",
        "soluzione = cerca(maze, Stack())\n",
        "\n",
        "plot_maze(maze, soluzione)"
      ]
    }
  ],
  "metadata": {
    "colab": {
      "provenance": []
    },
    "kernelspec": {
      "display_name": "venv",
      "language": "python",
      "name": "python3"
    },
    "language_info": {
      "codemirror_mode": {
        "name": "ipython",
        "version": 3
      },
      "file_extension": ".py",
      "mimetype": "text/x-python",
      "name": "python",
      "nbconvert_exporter": "python",
      "pygments_lexer": "ipython3",
      "version": "3.8.10"
    }
  },
  "nbformat": 4,
  "nbformat_minor": 0
}
